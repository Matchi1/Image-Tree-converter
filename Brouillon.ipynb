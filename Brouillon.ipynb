{
 "cells": [
  {
   "cell_type": "markdown",
   "metadata": {},
   "source": [
    "# Projet de Programmation en C"
   ]
  },
  {
   "cell_type": "markdown",
   "metadata": {},
   "source": [
    "### Images:\n",
    "* Taille: 512x512 pixels\n",
    "* Couleurs: Noir et blanc / en couleur."
   ]
  },
  {
   "cell_type": "markdown",
   "metadata": {},
   "source": [
    "### Quadtrees:\n",
    "* 1 racine\n",
    "* 4 enfants"
   ]
  },
  {
   "cell_type": "markdown",
   "metadata": {},
   "source": [
    "### Formules:\n",
    "$p_{1} = (r_{1},g_{1},b_{1},a_{1})$ et $p_{2} = (r_{2},g_{2},b_{2},a_{2})$\n",
    "$$dist(p_{1}, p_{2}) = \\sqrt{(r_{1} - r_{2})^2 + (g_{1}-g_{2})^2 + (b_{1}-b_{2})^2 + (a_{1}-a_{2})^2}$$"
   ]
  },
  {
   "cell_type": "markdown",
   "metadata": {},
   "source": [
    "$r_{z}=\\frac{1}{d}\\sum_{pixel(p_{1})}r_{i}$, $g_{z}=\\frac{1}{d}\\sum_{pixel(p_{1})}g_{i}$"
   ]
  },
  {
   "cell_type": "markdown",
   "metadata": {},
   "source": [
    "$b_{z}=\\frac{1}{d}\\sum_{pixel(p_{1})}b_{i}$, $a_{z}=\\frac{1}{d}\\sum_{pixel(p_{1})}a_{i}$"
   ]
  },
  {
   "cell_type": "markdown",
   "metadata": {},
   "source": [
    "$Erreur(Z)=\\sum_{pixel(p)}dist($couleur réelle de p$,(r_{Z},g_{Z},b_{Z},a_{Z}))$"
   ]
  },
  {
   "cell_type": "markdown",
   "metadata": {},
   "source": [
    "### Minimisation \n",
    "#### Sans perte\n",
    "* (Simple) Tant qu’il existe un noeud à hauteur 1 ayant ses quatres enfants de la même couleur : on remplace ce noeud par un de ses enfants.\n",
    "* (Simple) Ne garder qu’une seule feuille par couleur. Les images en noir et blanc n’auront que deux feuilles (2 mallocs seulement, le reste du quadtree (plein d’autres mallocs) ne sera composé que de noeuds internes).\n",
    "* (Difficile) Fonction de recherche et comparaison de sous-arbres. Si un sous-arbre apparaı̂t plusieurs fois, alors on libère le second et on rattache les deux pères vers le premier qui sera le seul gardé en mémoire."
   ]
  },
  {
   "cell_type": "markdown",
   "metadata": {},
   "source": [
    "#### Avec perte\n",
    "Pour comparer 2 quadtrees:\n",
    " si $T_{1}$ et $T_{2}$ sont des feuilles:\n",
    "\t\t$$dist(T_{1},T_{2}):=dist(couleur(T_{1},couleur(T_{2}))$$\n",
    " si $T_{1}$ est une feuille mais pas $T_{2}$:\n",
    "\t\t$$dist(T_{1},T_{2}):=\\sum_{i=1}^{4}{dist(T_{1},fils\"numéro\"i\"de\"T_{2})\\over 4}$$\n",
    " si $T_{2}$ est une feuille mais pas $T_{1}$:\n",
    "\t\t$$dist(T_{1},T_{2}):=\\sum_{i=1}^{4}{dist(fils\"numéro\"i\"de\"T_{1}, T_{2})\\over 4}$$\n",
    " si $T_{1}$ et $T_{2}$ ne sont pas des feuilles:\n",
    "\t\t$$dist(T_{1},T_{2}):=\\sum_{i=1}^{4}{dist(fils\"numéro\"i\"de\"T_{1}, fils\"numéro\"i\"de\"T_{2})\\over 4}$$"
   ]
  },
  {
   "cell_type": "markdown",
   "metadata": {},
   "source": [
    "### Format d'encodage\n",
    "Sauvegarde des images construites sous forme quadtrees:\n",
    "* extensions: .qtn (noir et blanc) et .qtc (en couleur)\n",
    "* noeuds interne: bit 0\n",
    "* images monochrome:\n",
    "\t* feuilles: bit 1\n",
    "\t* couleurs: bit 1 pour noir et bit 0 pour blanc\n",
    "* images en couleurs: \n",
    "\t* feuilles: bit 1\n",
    "\t* couleurs: 4 octet pour rgba (red: 1 octet, green: 1 octet ...)"
   ]
  },
  {
   "cell_type": "markdown",
   "metadata": {},
   "source": [
    "### Les boutons\n",
    "* approximations sous forme de quadtree\n",
    "* sauvegarde binaire noir et blanc \n",
    "* sauvegarde binaire en rgba\n",
    "* lancement de la minimisation\n",
    "* sauvegarde du graphe minimisé noir et blanc\n",
    "* sauvegarde du graphe minimisé en rgba\n",
    "* ouverture image à partir de son nom\n",
    "Les boutons de saugarde génèrent des fichiers dans img."
   ]
  },
  {
   "cell_type": "markdown",
   "metadata": {},
   "source": [
    "### Modularité\n",
    "* Minimum: \n",
    "\t- Main\n",
    "\t- Quadtrees\n",
    "\t- Graphic (à reconfigurer si besoin)\n",
    "* Idée d'autre module:\n",
    "    - Color\n",
    "\t- Compression\n",
    "\t- Decompression\n",
    "\t- Save\n",
    "\t- Input (image)\n",
    "\t- Test \n",
    "\t- Minimisation\n",
    "    - Menu\n",
    "    - BitFile\n",
    "    - Pixel\n",
    "    - Menu"
   ]
  },
  {
   "cell_type": "markdown",
   "metadata": {},
   "source": [
    "### Fonctions/Structure par module"
   ]
  },
  {
   "cell_type": "markdown",
   "metadata": {},
   "source": [
    "##### Quadtree"
   ]
  },
  {
   "cell_type": "markdown",
   "metadata": {},
   "source": [
    "typedef struct node{\n",
    "\n",
    "    Pixel* pixel;\n",
    "    Color* rgba;\n",
    "    struct node *filsNO;\n",
    "    struct node *filsNE;\n",
    "    struct node *filsSO;\n",
    "    struct node *filsSE;\n",
    "    \n",
    "}Node, *Quadtree;"
   ]
  },
  {
   "cell_type": "markdown",
   "metadata": {},
   "source": [
    "##### Color"
   ]
  },
  {
   "cell_type": "markdown",
   "metadata": {},
   "source": [
    "typedef unsigned char Byte;\n",
    "\n",
    "typedef struct color{\n",
    "\n",
    "    Byte r,g,b,a;\n",
    "    \n",
    "}Color;"
   ]
  },
  {
   "cell_type": "markdown",
   "metadata": {},
   "source": [
    "##### Pixel"
   ]
  },
  {
   "cell_type": "markdown",
   "metadata": {},
   "source": [
    "typedef struct {\n",
    "\n",
    "    int x, y;\n",
    "    int length;\n",
    "    \n",
    "}Pixel;"
   ]
  },
  {
   "cell_type": "markdown",
   "metadata": {},
   "source": [
    "##### BitFile "
   ]
  },
  {
   "cell_type": "markdown",
   "metadata": {},
   "source": [
    "typedef struct {\n",
    "    \n",
    "    FILE* file;\n",
    "    int nb_bit;\n",
    "    char buf;\n",
    "    \n",
    "}"
   ]
  },
  {
   "cell_type": "markdown",
   "metadata": {},
   "source": [
    "Tâches à faire:\n",
    "\n",
    "    - Input_img: Lire l'image et l'a changer en un arbre.\n",
    "    - Minimisation : Minimiser l'arbre\n",
    "    - Menu: Ajout des boutons pour l'interface graphique.\n",
    "    - Compression: Compresser l'arbre. ( Chan Mathieu )\n",
    "    - Décompression: Décompresser les arbres. ( Chan Mathieu )\n",
    "    - Graphic: Afficher l'arbre sur l'interface graphique.\n",
    "    - Test: Ajout de test sur les fonctions principales de chaque \n",
    "    module (faire régulièrement). ( Chan Mathieu )\n",
    "    "
   ]
  }
 ],
 "metadata": {
  "kernelspec": {
   "display_name": "Python 3",
   "language": "python",
   "name": "python3"
  },
  "language_info": {
   "codemirror_mode": {
    "name": "ipython",
    "version": 3
   },
   "file_extension": ".py",
   "mimetype": "text/x-python",
   "name": "python",
   "nbconvert_exporter": "python",
   "pygments_lexer": "ipython3",
   "version": "3.8.3"
  }
 },
 "nbformat": 4,
 "nbformat_minor": 4
}
